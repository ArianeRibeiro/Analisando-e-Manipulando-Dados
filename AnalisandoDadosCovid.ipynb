{
 "cells": [
  {
   "cell_type": "code",
   "execution_count": 1,
   "metadata": {},
   "outputs": [],
   "source": [
    "import pandas as pd\n",
    "import matplotlib.pyplot as plt\n",
    "import numpy as np\n"
   ]
  },
  {
   "cell_type": "code",
   "execution_count": 2,
   "metadata": {},
   "outputs": [],
   "source": [
    "dados = pd.read_csv(\"casoscovid.csv\",encoding = \"UTF-8\", sep = \";\")"
   ]
  },
  {
   "cell_type": "code",
   "execution_count": 6,
   "metadata": {},
   "outputs": [
    {
     "data": {
      "text/html": [
       "<div>\n",
       "<style scoped>\n",
       "    .dataframe tbody tr th:only-of-type {\n",
       "        vertical-align: middle;\n",
       "    }\n",
       "\n",
       "    .dataframe tbody tr th {\n",
       "        vertical-align: top;\n",
       "    }\n",
       "\n",
       "    .dataframe thead th {\n",
       "        text-align: right;\n",
       "    }\n",
       "</style>\n",
       "<table border=\"1\" class=\"dataframe\">\n",
       "  <thead>\n",
       "    <tr style=\"text-align: right;\">\n",
       "      <th></th>\n",
       "      <th>nome_munic</th>\n",
       "      <th>codigo_ibge</th>\n",
       "      <th>idade</th>\n",
       "      <th>cs_sexo</th>\n",
       "      <th>diagnostico_covid19</th>\n",
       "      <th>data_inicio_sintomas</th>\n",
       "      <th>obito</th>\n",
       "      <th>asma</th>\n",
       "      <th>cardiopatia</th>\n",
       "      <th>diabetes</th>\n",
       "      <th>doenca_hematologica</th>\n",
       "      <th>doenca_hepatica</th>\n",
       "      <th>doenca_neurologica</th>\n",
       "      <th>doenca_renal</th>\n",
       "      <th>imunodepressao</th>\n",
       "      <th>obesidade</th>\n",
       "      <th>outros_fatores_de_risco</th>\n",
       "      <th>pneumopatia</th>\n",
       "      <th>puerpera</th>\n",
       "      <th>sindrome_de_down</th>\n",
       "    </tr>\n",
       "  </thead>\n",
       "  <tbody>\n",
       "    <tr>\n",
       "      <th>0</th>\n",
       "      <td>São José do Rio Preto</td>\n",
       "      <td>3549805</td>\n",
       "      <td>53.0</td>\n",
       "      <td>FEMININO</td>\n",
       "      <td>CONFIRMADO</td>\n",
       "      <td>2021-03-16</td>\n",
       "      <td>0</td>\n",
       "      <td>IGNORADO</td>\n",
       "      <td>IGNORADO</td>\n",
       "      <td>IGNORADO</td>\n",
       "      <td>IGNORADO</td>\n",
       "      <td>IGNORADO</td>\n",
       "      <td>IGNORADO</td>\n",
       "      <td>IGNORADO</td>\n",
       "      <td>IGNORADO</td>\n",
       "      <td>IGNORADO</td>\n",
       "      <td>IGNORADO</td>\n",
       "      <td>IGNORADO</td>\n",
       "      <td>IGNORADO</td>\n",
       "      <td>IGNORADO</td>\n",
       "    </tr>\n",
       "    <tr>\n",
       "      <th>1</th>\n",
       "      <td>São Paulo</td>\n",
       "      <td>3550308</td>\n",
       "      <td>36.0</td>\n",
       "      <td>MASCULINO</td>\n",
       "      <td>CONFIRMADO</td>\n",
       "      <td>2020-12-11</td>\n",
       "      <td>0</td>\n",
       "      <td>IGNORADO</td>\n",
       "      <td>IGNORADO</td>\n",
       "      <td>IGNORADO</td>\n",
       "      <td>IGNORADO</td>\n",
       "      <td>IGNORADO</td>\n",
       "      <td>IGNORADO</td>\n",
       "      <td>IGNORADO</td>\n",
       "      <td>IGNORADO</td>\n",
       "      <td>IGNORADO</td>\n",
       "      <td>IGNORADO</td>\n",
       "      <td>IGNORADO</td>\n",
       "      <td>IGNORADO</td>\n",
       "      <td>IGNORADO</td>\n",
       "    </tr>\n",
       "    <tr>\n",
       "      <th>2</th>\n",
       "      <td>São Paulo</td>\n",
       "      <td>3550308</td>\n",
       "      <td>56.0</td>\n",
       "      <td>MASCULINO</td>\n",
       "      <td>CONFIRMADO</td>\n",
       "      <td>2021-02-27</td>\n",
       "      <td>0</td>\n",
       "      <td>IGNORADO</td>\n",
       "      <td>IGNORADO</td>\n",
       "      <td>IGNORADO</td>\n",
       "      <td>IGNORADO</td>\n",
       "      <td>IGNORADO</td>\n",
       "      <td>IGNORADO</td>\n",
       "      <td>IGNORADO</td>\n",
       "      <td>IGNORADO</td>\n",
       "      <td>IGNORADO</td>\n",
       "      <td>IGNORADO</td>\n",
       "      <td>IGNORADO</td>\n",
       "      <td>IGNORADO</td>\n",
       "      <td>IGNORADO</td>\n",
       "    </tr>\n",
       "    <tr>\n",
       "      <th>3</th>\n",
       "      <td>São Paulo</td>\n",
       "      <td>3550308</td>\n",
       "      <td>62.0</td>\n",
       "      <td>FEMININO</td>\n",
       "      <td>CONFIRMADO</td>\n",
       "      <td>2020-06-30</td>\n",
       "      <td>0</td>\n",
       "      <td>IGNORADO</td>\n",
       "      <td>SIM</td>\n",
       "      <td>SIM</td>\n",
       "      <td>IGNORADO</td>\n",
       "      <td>IGNORADO</td>\n",
       "      <td>IGNORADO</td>\n",
       "      <td>IGNORADO</td>\n",
       "      <td>IGNORADO</td>\n",
       "      <td>IGNORADO</td>\n",
       "      <td>IGNORADO</td>\n",
       "      <td>IGNORADO</td>\n",
       "      <td>IGNORADO</td>\n",
       "      <td>IGNORADO</td>\n",
       "    </tr>\n",
       "    <tr>\n",
       "      <th>4</th>\n",
       "      <td>Ribeirão Preto</td>\n",
       "      <td>3543402</td>\n",
       "      <td>43.0</td>\n",
       "      <td>MASCULINO</td>\n",
       "      <td>CONFIRMADO</td>\n",
       "      <td>2020-07-24</td>\n",
       "      <td>0</td>\n",
       "      <td>IGNORADO</td>\n",
       "      <td>IGNORADO</td>\n",
       "      <td>IGNORADO</td>\n",
       "      <td>IGNORADO</td>\n",
       "      <td>IGNORADO</td>\n",
       "      <td>IGNORADO</td>\n",
       "      <td>IGNORADO</td>\n",
       "      <td>IGNORADO</td>\n",
       "      <td>IGNORADO</td>\n",
       "      <td>IGNORADO</td>\n",
       "      <td>IGNORADO</td>\n",
       "      <td>IGNORADO</td>\n",
       "      <td>IGNORADO</td>\n",
       "    </tr>\n",
       "  </tbody>\n",
       "</table>\n",
       "</div>"
      ],
      "text/plain": [
       "              nome_munic  codigo_ibge  idade    cs_sexo diagnostico_covid19  \\\n",
       "0  São José do Rio Preto      3549805   53.0   FEMININO          CONFIRMADO   \n",
       "1              São Paulo      3550308   36.0  MASCULINO          CONFIRMADO   \n",
       "2              São Paulo      3550308   56.0  MASCULINO          CONFIRMADO   \n",
       "3              São Paulo      3550308   62.0   FEMININO          CONFIRMADO   \n",
       "4         Ribeirão Preto      3543402   43.0  MASCULINO          CONFIRMADO   \n",
       "\n",
       "  data_inicio_sintomas  obito      asma cardiopatia  diabetes  \\\n",
       "0           2021-03-16      0  IGNORADO    IGNORADO  IGNORADO   \n",
       "1           2020-12-11      0  IGNORADO    IGNORADO  IGNORADO   \n",
       "2           2021-02-27      0  IGNORADO    IGNORADO  IGNORADO   \n",
       "3           2020-06-30      0  IGNORADO         SIM       SIM   \n",
       "4           2020-07-24      0  IGNORADO    IGNORADO  IGNORADO   \n",
       "\n",
       "  doenca_hematologica doenca_hepatica doenca_neurologica doenca_renal  \\\n",
       "0            IGNORADO        IGNORADO           IGNORADO     IGNORADO   \n",
       "1            IGNORADO        IGNORADO           IGNORADO     IGNORADO   \n",
       "2            IGNORADO        IGNORADO           IGNORADO     IGNORADO   \n",
       "3            IGNORADO        IGNORADO           IGNORADO     IGNORADO   \n",
       "4            IGNORADO        IGNORADO           IGNORADO     IGNORADO   \n",
       "\n",
       "  imunodepressao obesidade outros_fatores_de_risco pneumopatia  puerpera  \\\n",
       "0       IGNORADO  IGNORADO                IGNORADO    IGNORADO  IGNORADO   \n",
       "1       IGNORADO  IGNORADO                IGNORADO    IGNORADO  IGNORADO   \n",
       "2       IGNORADO  IGNORADO                IGNORADO    IGNORADO  IGNORADO   \n",
       "3       IGNORADO  IGNORADO                IGNORADO    IGNORADO  IGNORADO   \n",
       "4       IGNORADO  IGNORADO                IGNORADO    IGNORADO  IGNORADO   \n",
       "\n",
       "  sindrome_de_down  \n",
       "0         IGNORADO  \n",
       "1         IGNORADO  \n",
       "2         IGNORADO  \n",
       "3         IGNORADO  \n",
       "4         IGNORADO  "
      ]
     },
     "execution_count": 6,
     "metadata": {},
     "output_type": "execute_result"
    }
   ],
   "source": [
    "dados.head()"
   ]
  },
  {
   "cell_type": "code",
   "execution_count": 7,
   "metadata": {},
   "outputs": [
    {
     "name": "stdout",
     "output_type": "stream",
     "text": [
      "        codigo_ibge         idade         obito\n",
      "count  2.750300e+06  2.744504e+06  2.750300e+06\n",
      "mean   3.535303e+06  4.161731e+01  3.218849e-02\n",
      "std    1.718475e+04  1.757608e+01  1.765004e-01\n",
      "min    3.500105e+06  0.000000e+00  0.000000e+00\n",
      "25%    3.519071e+06  2.900000e+01  0.000000e+00\n",
      "50%    3.543402e+06  4.000000e+01  0.000000e+00\n",
      "75%    3.550308e+06  5.300000e+01  0.000000e+00\n",
      "max    3.599999e+06  1.360000e+02  1.000000e+00\n"
     ]
    }
   ],
   "source": [
    "print(dados.describe())"
   ]
  },
  {
   "cell_type": "code",
   "execution_count": 8,
   "metadata": {},
   "outputs": [],
   "source": [
    "dados= pd.read_csv(\"casoscovid.csv\",encoding = \"UTF-8\", sep = \";\", usecols=[\"idade\",\"cs_sexo\",\"obito\"])"
   ]
  },
  {
   "cell_type": "code",
   "execution_count": 9,
   "metadata": {},
   "outputs": [
    {
     "data": {
      "text/html": [
       "<div>\n",
       "<style scoped>\n",
       "    .dataframe tbody tr th:only-of-type {\n",
       "        vertical-align: middle;\n",
       "    }\n",
       "\n",
       "    .dataframe tbody tr th {\n",
       "        vertical-align: top;\n",
       "    }\n",
       "\n",
       "    .dataframe thead th {\n",
       "        text-align: right;\n",
       "    }\n",
       "</style>\n",
       "<table border=\"1\" class=\"dataframe\">\n",
       "  <thead>\n",
       "    <tr style=\"text-align: right;\">\n",
       "      <th></th>\n",
       "      <th>idade</th>\n",
       "      <th>cs_sexo</th>\n",
       "      <th>obito</th>\n",
       "    </tr>\n",
       "  </thead>\n",
       "  <tbody>\n",
       "    <tr>\n",
       "      <th>0</th>\n",
       "      <td>53.0</td>\n",
       "      <td>FEMININO</td>\n",
       "      <td>0</td>\n",
       "    </tr>\n",
       "    <tr>\n",
       "      <th>1</th>\n",
       "      <td>36.0</td>\n",
       "      <td>MASCULINO</td>\n",
       "      <td>0</td>\n",
       "    </tr>\n",
       "    <tr>\n",
       "      <th>2</th>\n",
       "      <td>56.0</td>\n",
       "      <td>MASCULINO</td>\n",
       "      <td>0</td>\n",
       "    </tr>\n",
       "    <tr>\n",
       "      <th>3</th>\n",
       "      <td>62.0</td>\n",
       "      <td>FEMININO</td>\n",
       "      <td>0</td>\n",
       "    </tr>\n",
       "    <tr>\n",
       "      <th>4</th>\n",
       "      <td>43.0</td>\n",
       "      <td>MASCULINO</td>\n",
       "      <td>0</td>\n",
       "    </tr>\n",
       "  </tbody>\n",
       "</table>\n",
       "</div>"
      ],
      "text/plain": [
       "   idade    cs_sexo  obito\n",
       "0   53.0   FEMININO      0\n",
       "1   36.0  MASCULINO      0\n",
       "2   56.0  MASCULINO      0\n",
       "3   62.0   FEMININO      0\n",
       "4   43.0  MASCULINO      0"
      ]
     },
     "execution_count": 9,
     "metadata": {},
     "output_type": "execute_result"
    }
   ],
   "source": [
    "dados.head()"
   ]
  },
  {
   "cell_type": "code",
   "execution_count": 12,
   "metadata": {},
   "outputs": [
    {
     "data": {
      "image/png": "[encoded data removed]",
      "text/plain": [
       "<Figure size 432x288 with 1 Axes>"
      ]
     },
     "metadata": {
      "needs_background": "light"
     },
     "output_type": "display_data"
    }
   ],
   "source": [
    "dados.hist(column=\"idade\", bins=(60))\n",
    "plt.xlabel(\"idade\")\n",
    "plt.ylabel(\"obito\")\n",
    "plt.title(\"Distribuição do número de casos\")\n",
    "plt.show()"
   ]
  },
  {
   "cell_type": "code",
   "execution_count": 13,
   "metadata": {},
   "outputs": [
    {
     "data": {
      "text/html": [
       "<div>\n",
       "<style scoped>\n",
       "    .dataframe tbody tr th:only-of-type {\n",
       "        vertical-align: middle;\n",
       "    }\n",
       "\n",
       "    .dataframe tbody tr th {\n",
       "        vertical-align: top;\n",
       "    }\n",
       "\n",
       "    .dataframe thead th {\n",
       "        text-align: right;\n",
       "    }\n",
       "</style>\n",
       "<table border=\"1\" class=\"dataframe\">\n",
       "  <thead>\n",
       "    <tr style=\"text-align: right;\">\n",
       "      <th></th>\n",
       "      <th>idade</th>\n",
       "      <th>cs_sexo</th>\n",
       "      <th>obito</th>\n",
       "    </tr>\n",
       "  </thead>\n",
       "  <tbody>\n",
       "    <tr>\n",
       "      <th>177</th>\n",
       "      <td>96.0</td>\n",
       "      <td>FEMININO</td>\n",
       "      <td>1</td>\n",
       "    </tr>\n",
       "    <tr>\n",
       "      <th>203</th>\n",
       "      <td>82.0</td>\n",
       "      <td>FEMININO</td>\n",
       "      <td>1</td>\n",
       "    </tr>\n",
       "    <tr>\n",
       "      <th>591</th>\n",
       "      <td>49.0</td>\n",
       "      <td>FEMININO</td>\n",
       "      <td>1</td>\n",
       "    </tr>\n",
       "    <tr>\n",
       "      <th>833</th>\n",
       "      <td>67.0</td>\n",
       "      <td>FEMININO</td>\n",
       "      <td>1</td>\n",
       "    </tr>\n",
       "    <tr>\n",
       "      <th>909</th>\n",
       "      <td>71.0</td>\n",
       "      <td>FEMININO</td>\n",
       "      <td>1</td>\n",
       "    </tr>\n",
       "  </tbody>\n",
       "</table>\n",
       "</div>"
      ],
      "text/plain": [
       "     idade   cs_sexo  obito\n",
       "177   96.0  FEMININO      1\n",
       "203   82.0  FEMININO      1\n",
       "591   49.0  FEMININO      1\n",
       "833   67.0  FEMININO      1\n",
       "909   71.0  FEMININO      1"
      ]
     },
     "execution_count": 13,
     "metadata": {},
     "output_type": "execute_result"
    }
   ],
   "source": [
    "dados[(dados.cs_sexo == \"FEMININO\") & (dados.obito == 1)].head()"
   ]
  },
  {
   "cell_type": "code",
   "execution_count": 17,
   "metadata": {},
   "outputs": [],
   "source": [
    "fem = dados[(dados.cs_sexo == \"FEMININO\") & (dados.obito == 1)].head()"
   ]
  },
  {
   "cell_type": "code",
   "execution_count": 31,
   "metadata": {},
   "outputs": [
    {
     "data": {
      "image/png": "[encoded data removed]",
      "text/plain": [
       "<Figure size 432x288 with 1 Axes>"
      ]
     },
     "metadata": {
      "needs_background": "light"
     },
     "output_type": "display_data"
    }
   ],
   "source": [
    "fem.hist(column=\"idade\", bins=(15))\n",
    "plt.xlabel(\"idade\")\n",
    "plt.ylabel(\"obito\")\n",
    "plt.title(\"Distribuição do número de casos graves em pessoas do sexo feminino\")\n",
    "plt.show()"
   ]
  },
  {
   "cell_type": "code",
   "execution_count": 24,
   "metadata": {},
   "outputs": [
    {
     "data": {
      "text/html": [
       "<div>\n",
       "<style scoped>\n",
       "    .dataframe tbody tr th:only-of-type {\n",
       "        vertical-align: middle;\n",
       "    }\n",
       "\n",
       "    .dataframe tbody tr th {\n",
       "        vertical-align: top;\n",
       "    }\n",
       "\n",
       "    .dataframe thead th {\n",
       "        text-align: right;\n",
       "    }\n",
       "</style>\n",
       "<table border=\"1\" class=\"dataframe\">\n",
       "  <thead>\n",
       "    <tr style=\"text-align: right;\">\n",
       "      <th></th>\n",
       "      <th>idade</th>\n",
       "      <th>cs_sexo</th>\n",
       "      <th>obito</th>\n",
       "    </tr>\n",
       "  </thead>\n",
       "  <tbody>\n",
       "    <tr>\n",
       "      <th>61</th>\n",
       "      <td>41.0</td>\n",
       "      <td>MASCULINO</td>\n",
       "      <td>1</td>\n",
       "    </tr>\n",
       "    <tr>\n",
       "      <th>245</th>\n",
       "      <td>46.0</td>\n",
       "      <td>MASCULINO</td>\n",
       "      <td>1</td>\n",
       "    </tr>\n",
       "    <tr>\n",
       "      <th>263</th>\n",
       "      <td>58.0</td>\n",
       "      <td>MASCULINO</td>\n",
       "      <td>1</td>\n",
       "    </tr>\n",
       "    <tr>\n",
       "      <th>439</th>\n",
       "      <td>77.0</td>\n",
       "      <td>MASCULINO</td>\n",
       "      <td>1</td>\n",
       "    </tr>\n",
       "    <tr>\n",
       "      <th>450</th>\n",
       "      <td>47.0</td>\n",
       "      <td>MASCULINO</td>\n",
       "      <td>1</td>\n",
       "    </tr>\n",
       "  </tbody>\n",
       "</table>\n",
       "</div>"
      ],
      "text/plain": [
       "     idade    cs_sexo  obito\n",
       "61    41.0  MASCULINO      1\n",
       "245   46.0  MASCULINO      1\n",
       "263   58.0  MASCULINO      1\n",
       "439   77.0  MASCULINO      1\n",
       "450   47.0  MASCULINO      1"
      ]
     },
     "execution_count": 24,
     "metadata": {},
     "output_type": "execute_result"
    }
   ],
   "source": [
    "dados[(dados.cs_sexo == \"MASCULINO\") & (dados.obito == 1)].head()"
   ]
  },
  {
   "cell_type": "code",
   "execution_count": 28,
   "metadata": {},
   "outputs": [],
   "source": [
    "masc = dados[(dados.cs_sexo == \"MASCULINO\") & (dados.obito == 1)].head()"
   ]
  },
  {
   "cell_type": "code",
   "execution_count": 30,
   "metadata": {},
   "outputs": [
    {
     "data": {
      "image/png": "[encoded data removed]",
      "text/plain": [
       "<Figure size 432x288 with 1 Axes>"
      ]
     },
     "metadata": {
      "needs_background": "light"
     },
     "output_type": "display_data"
    }
   ],
   "source": [
    "masc.hist(column=\"idade\", bins=(15))\n",
    "plt.xlabel(\"idade\")\n",
    "plt.ylabel(\"obito\")\n",
    "plt.title(\"Distribuição do número de casos graves em pessoas do sexo masculino\")\n",
    "plt.show()"
   ]
  },
  {
   "cell_type": "code",
   "execution_count": null,
   "metadata": {},
   "outputs": [],
   "source": []
  }
 ],
 "metadata": {
  "kernelspec": {
   "display_name": "Python 3",
   "language": "python",
   "name": "python3"
  },
  "language_info": {
   "codemirror_mode": {
    "name": "ipython",
    "version": 3
   },
   "file_extension": ".py",
   "mimetype": "text/x-python",
   "name": "python",
   "nbconvert_exporter": "python",
   "pygments_lexer": "ipython3",
   "version": "3.8.5"
  }
 },
 "nbformat": 4,
 "nbformat_minor": 4
}
