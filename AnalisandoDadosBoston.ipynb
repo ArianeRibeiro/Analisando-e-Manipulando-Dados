{
 "cells": [
  {
   "cell_type": "code",
   "execution_count": 26,
   "metadata": {},
   "outputs": [
    {
     "name": "stdout",
     "output_type": "stream",
     "text": [
      "O total de voos é:  77645.0\n"
     ]
    }
   ],
   "source": [
    "#Total de Voos\n",
    "\n",
    "with open(\"economic-indicators.csv\",\"r\") as indicators:\n",
    "    total=0\n",
    "    for line in indicators.readlines()[1:-1]:\n",
    "        total=total+float(line.split(\",\")[3])\n",
    "    print(\"O total de voos é: \", total)\n",
    " \n",
    "  "
   ]
  },
  {
   "cell_type": "code",
   "execution_count": 27,
   "metadata": {},
   "outputs": [
    {
     "name": "stdout",
     "output_type": "stream",
     "text": [
      "Sobre qual ano deseja obter informações? 2015\n",
      "O total de voos é de:  76296.0\n",
      "O maior movimento no aeroporto de Boston foi em:  12 / 2014\n"
     ]
    }
   ],
   "source": [
    "#Voos por ano e mês/ano de maior movimento\n",
    "\n",
    "with open(\"economic-indicators.csv\",\"r\") as indicators:\n",
    "    total=0\n",
    "    maior=0\n",
    "    ano_usuario = input(\"Sobre qual ano deseja obter informações? \")\n",
    "    for line in indicators.readlines()[1:-1]:\n",
    "        list=linha.split(\",\")\n",
    "        total=total+float(list[3])\n",
    "        if float(list[2])>float(maior):\n",
    "            maior=list[2]\n",
    "            ano=list[0]\n",
    "            mes=list[1]\n",
    "    \n",
    "    print(\"O total de voos é de: \", total)\n",
    "    print(\"O maior movimento no aeroporto de Boston foi em: \", str(mes),\"/\",str(ano))\n"
   ]
  },
  {
   "cell_type": "code",
   "execution_count": null,
   "metadata": {},
   "outputs": [],
   "source": []
  },
  {
   "cell_type": "code",
   "execution_count": null,
   "metadata": {},
   "outputs": [],
   "source": []
  }
 ],
 "metadata": {
  "kernelspec": {
   "display_name": "Python 3",
   "language": "python",
   "name": "python3"
  },
  "language_info": {
   "codemirror_mode": {
    "name": "ipython",
    "version": 3
   },
   "file_extension": ".py",
   "mimetype": "text/x-python",
   "name": "python",
   "nbconvert_exporter": "python",
   "pygments_lexer": "ipython3",
   "version": "3.8.5"
  }
 },
 "nbformat": 4,
 "nbformat_minor": 4
}
